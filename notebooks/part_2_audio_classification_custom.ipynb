{
  "nbformat": 4,
  "nbformat_minor": 0,
  "metadata": {
    "colab": {
      "provenance": [],
      "machine_shape": "hm",
      "gpuType": "L4"
    },
    "kernelspec": {
      "name": "python3",
      "display_name": "Python 3"
    },
    "language_info": {
      "name": "python"
    },
    "accelerator": "GPU"
  },
  "cells": [
    {
      "cell_type": "markdown",
      "source": [
        "# Deep Learning\n",
        "\n",
        "## Part 2: Open Task - Audio Classification (Custom Architecture)\n",
        "\n",
        "---\n",
        "\n",
        "> Kostis Konstantinos (p3352311) <br>\n",
        "> Karousis Nikolaos (p3352321) <br>\n",
        "> MSc Data Science (Part-Time) <br>\n",
        "> Athens University Of Economics and Business"
      ],
      "metadata": {
        "id": "xOzCyzK6FoiL"
      }
    },
    {
      "cell_type": "markdown",
      "source": [
        "## Open Task\n",
        "\n",
        "For the part 2 of the assignment the open task was selected. And audio classification task is selected.\n",
        "\n",
        "This notebook implements the custom architecture of the audio classification task.\n",
        "\n",
        "## Dataset description\n",
        "\n",
        "The dataset is named `ESC-50` and it refers to an audio clip dataset of environmental sounds of 50 classes.\n",
        "\n",
        "You can read more about the dataset at:\n",
        "- [Github](https://github.com/karolpiczak/ESC-50)\n",
        "- [Papers-With-Code](https://paperswithcode.com/dataset/esc-50)\n"
      ],
      "metadata": {
        "id": "DFKUhZPKG413"
      }
    },
    {
      "cell_type": "code",
      "execution_count": null,
      "metadata": {
        "id": "cB12WlmbFbq5"
      },
      "outputs": [],
      "source": [
        "# Install needed libraries\n",
        "!pip install tensorflow==2.12.0 keras-tuner==1.4.7 pandas==1.5.3 numpy==1.23.5 scikit-learn==1.3.0 matplotlib==3.8.4 librosa==0.10.2.post1"
      ]
    },
    {
      "cell_type": "code",
      "source": [
        "## Allow access to the code directory\n",
        "import sys\n",
        "import os\n",
        "from google.colab import drive\n",
        "\n",
        "# Mount the drive\n",
        "drive.mount('/content/drive', force_remount=True)\n",
        "\n",
        "# Define the base path\n",
        "base_path = '/content/drive/MyDrive/deep-learning-msc-data-science-2024-2025'\n",
        "\n",
        "# Define the code path\n",
        "code_folder = os.path.join(base_path, 'code')\n",
        "\n",
        "# Add the 'code' folder to the sys.path\n",
        "sys.path.append(code_folder)"
      ],
      "metadata": {
        "id": "MtUq6P6HKCGW"
      },
      "execution_count": null,
      "outputs": []
    },
    {
      "cell_type": "code",
      "source": [
        "# Load necessary libs and modules\n",
        "\n",
        "from constants import *\n",
        "from esc_50_downloader import ESC50Downloader\n",
        "from esc_50_loader import ESC50Loader\n",
        "from esc_50_dataset import ESC50Dataset\n",
        "from esc_50_dataset_processor import ESC50DatasetProcessor"
      ],
      "metadata": {
        "id": "GvmQsaP8K-wv"
      },
      "execution_count": null,
      "outputs": []
    },
    {
      "cell_type": "markdown",
      "source": [
        "## Download and extract the data (if needed)"
      ],
      "metadata": {
        "id": "IGCBNb1XMGCy"
      }
    },
    {
      "cell_type": "code",
      "source": [
        "download_directory = os.path.join(base_path, ESC_50_DATA_PATH)\n",
        "downloader = ESC50Downloader(download_directory)\n",
        "downloader.download_and_extract()"
      ],
      "metadata": {
        "id": "YhVPr8h4MNjf"
      },
      "execution_count": null,
      "outputs": []
    },
    {
      "cell_type": "markdown",
      "source": [
        "## Load and process the data (extract features)"
      ],
      "metadata": {
        "id": "o8Kuig2LQ1Zs"
      }
    },
    {
      "cell_type": "code",
      "source": [
        "data_directory = os.path.join(base_path, ESC_50_DATA_PATH, ESC_50_MASTER_UNZIPPED)\n",
        "loader = ESC50Loader(data_directory)\n",
        "meta_train_df, meta_val_df, meta_test_df = loader.load()"
      ],
      "metadata": {
        "id": "CAEQGKhWQ5Rt"
      },
      "execution_count": null,
      "outputs": []
    },
    {
      "cell_type": "code",
      "source": [
        "train_dataset = ESC50Dataset(meta_train_df)\n",
        "validation_dataset =  ESC50Dataset(meta_val_df)\n",
        "test_dataset = ESC50Dataset(meta_test_df)"
      ],
      "metadata": {
        "id": "RgWywBdFTjH9"
      },
      "execution_count": null,
      "outputs": []
    },
    {
      "cell_type": "code",
      "source": [
        "dataset_processor = ESC50DatasetProcessor()"
      ],
      "metadata": {
        "id": "TderG8GOVkPp"
      },
      "execution_count": null,
      "outputs": []
    },
    {
      "cell_type": "code",
      "source": [
        "dataset_processor.process(train_dataset)\n",
        "dataset_processor.process(validation_dataset)\n",
        "dataset_processor.process(test_dataset)"
      ],
      "metadata": {
        "id": "Nh85QSTGVo39"
      },
      "execution_count": null,
      "outputs": []
    },
    {
      "cell_type": "code",
      "source": [
        "train_dataset.to_numpy()\n",
        "validation_dataset.to_numpy()\n",
        "test_dataset.to_numpy()"
      ],
      "metadata": {
        "id": "jgXst_3cXEMm"
      },
      "execution_count": null,
      "outputs": []
    },
    {
      "cell_type": "markdown",
      "source": [
        "## Inspect the size of the splits"
      ],
      "metadata": {
        "id": "dm5GjqxWWcP1"
      }
    },
    {
      "cell_type": "code",
      "source": [],
      "metadata": {
        "id": "I7HvWIlHWirX"
      },
      "execution_count": null,
      "outputs": []
    }
  ]
}