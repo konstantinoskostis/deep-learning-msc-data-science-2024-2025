{
 "cells": [
  {
   "cell_type": "markdown",
   "id": "8143214d-d8a7-4f53-bba1-520145ee6166",
   "metadata": {},
   "source": [
    "# Deep Learning\n",
    "\n",
    "## Part 1: Image Classification - Fashion MNIST\n",
    "\n",
    "---\n",
    "> Kostis Konstantinos (p3352311) <br>\n",
    "> Karousis Nikolaos (p3352321) <br>\n",
    "> MSc Data Science (Part-Time) <br>\n",
    "> Athens University Of Economics and Business"
   ]
  },
  {
   "cell_type": "code",
   "execution_count": null,
   "id": "08863702-2c3a-4794-bbbf-d4eae0f413ee",
   "metadata": {},
   "outputs": [],
   "source": [
    "## Allow access to the code directory\n",
    "import sys\n",
    "import os\n",
    "\n",
    "# Get the path to the parent directory of the notebook\n",
    "notebooks_path = os.getcwd() # Get the current directory of the notebook\n",
    "code_folder = os.path.join(notebooks_path, '..', 'code')  # Go one level up and then into 'code' folder\n",
    "\n",
    "# Add the 'code' folder to the sys.path\n",
    "sys.path.append(code_folder)"
   ]
  },
  {
   "cell_type": "code",
   "execution_count": null,
   "id": "58cfa577-e0a4-49f1-a04b-6b584a2c5996",
   "metadata": {},
   "outputs": [],
   "source": [
    "# Load necessary libs and modules\n",
    "from constants import *\n",
    "from fashion_mnist_loader import FashionMnistLoader\n",
    "from mlp import MLPTuner, MLP"
   ]
  },
  {
   "cell_type": "markdown",
   "id": "ced53547-b0f6-4316-b7e7-bb2629a4ad64",
   "metadata": {},
   "source": [
    "## Multi Layer Perceptron (section)"
   ]
  },
  {
   "cell_type": "markdown",
   "id": "04db1dca-b1b3-4580-9c5b-394121efe6d0",
   "metadata": {},
   "source": [
    "### Load the data"
   ]
  },
  {
   "cell_type": "code",
   "execution_count": null,
   "id": "13decd96-0439-44b9-bf24-b5daca5e72f9",
   "metadata": {},
   "outputs": [],
   "source": [
    "fashion_mnist_path = os.path.join(notebooks_path, '..', FASHION_MNIST_DATA_PATH)\n",
    "\n",
    "train_loader = FashionMnistLoader(fashion_mnist_path, 'train')\n",
    "train_set, validation_set = train_loader.load_data(validation_size=0.1)\n",
    "train_X, train_y = train_set\n",
    "validation_X, validation_y = validation_set\n",
    "\n",
    "test_loader = FashionMnistLoader(fashion_mnist_path, 't10k')\n",
    "test_X, test_y = test_loader.load_data()\n",
    "test_set = (test_X, test_y)"
   ]
  },
  {
   "cell_type": "markdown",
   "id": "0dfb2750-2c37-4527-90be-3b6587d0102f",
   "metadata": {},
   "source": [
    "### MLP Hyper-Parameter tuning"
   ]
  },
  {
   "cell_type": "code",
   "execution_count": null,
   "id": "0a64eb88-2b9f-413f-a9d1-0f0496acd64d",
   "metadata": {},
   "outputs": [],
   "source": [
    "tuner_directory = os.path.join(notebooks_path, '..', TUNERS_DIR)\n",
    "fashion_mlp_tuner = MLPTuner(train_set, validation_set,\n",
    "                             tuner_directory, FASHION_MNIST_TUNER_PROJECT_NAME, train_size=0.5)"
   ]
  },
  {
   "cell_type": "code",
   "execution_count": null,
   "id": "3f188834-e10c-4461-8d38-58e109dda115",
   "metadata": {},
   "outputs": [],
   "source": [
    "fashion_mlp_keras_tuner = fashion_mlp_tuner.tune()"
   ]
  },
  {
   "cell_type": "code",
   "execution_count": null,
   "id": "387f5ad8-6a86-4873-9c47-d74dcc3e1a68",
   "metadata": {},
   "outputs": [],
   "source": [
    "fashion_mlp_best_hyperparams = fashion_mlp_keras_tuner.get_best_hyperparameters()[0].values\n",
    "fashion_mlp_best_hyperparams"
   ]
  },
  {
   "cell_type": "markdown",
   "id": "0ef21193-f3c1-484f-858e-ba97851673df",
   "metadata": {},
   "source": [
    "### MLP Best Model Architecture"
   ]
  },
  {
   "cell_type": "code",
   "execution_count": null,
   "id": "6d3d7bf1-912a-4d79-a6b3-1e6c5fd10b41",
   "metadata": {},
   "outputs": [],
   "source": [
    "fashion_mlp_keras_tuner.get_best_models()[0].summary()"
   ]
  },
  {
   "cell_type": "markdown",
   "id": "8a4781f5-6cd3-4ae6-8249-09b6bcbd078c",
   "metadata": {},
   "source": [
    "### Fit the MLP"
   ]
  },
  {
   "cell_type": "code",
   "execution_count": null,
   "id": "5d5af18d-73b1-44fc-a884-89e5e016edda",
   "metadata": {},
   "outputs": [],
   "source": [
    "models_directory = os.path.join(notebooks_path, '..', MODELS_DIR)\n",
    "fashion_mlp = MLP(models_dir=models_directory, weights_name=FASHION_MNIST_WEIGHTS,\n",
    "                  class_ids=FASHION_MNIST_CLASS_IDS, class_labels=FASHION_MNIST_CLASS_LABELS)"
   ]
  },
  {
   "cell_type": "code",
   "execution_count": null,
   "id": "b609a58e-92a0-4cd7-9a2a-1a40a8e802da",
   "metadata": {},
   "outputs": [],
   "source": [
    "fashion_mlp.fit(train_dataset=train_set, validation_dataset=validation_set, hyperparams=fashion_mlp_best_hyperparams)"
   ]
  },
  {
   "cell_type": "markdown",
   "id": "827767a6-d513-4e0e-b3a6-cc419b261842",
   "metadata": {},
   "source": [
    "### Plot training accuracy and loss curves"
   ]
  },
  {
   "cell_type": "code",
   "execution_count": null,
   "id": "f93cfdc6-c74d-48b0-a158-00b5be70bf27",
   "metadata": {},
   "outputs": [],
   "source": [
    "fashion_mlp.plot_curves()"
   ]
  },
  {
   "cell_type": "markdown",
   "id": "2dbb3590-8b2a-4bc2-87f4-24c6b379519d",
   "metadata": {},
   "source": [
    "### Evaluating the MLP on the training set (Classification Report)"
   ]
  },
  {
   "cell_type": "code",
   "execution_count": null,
   "id": "a18f91e7-5b7f-4c9e-8a9b-2ea07d343878",
   "metadata": {},
   "outputs": [],
   "source": [
    "train_classification_report_df, train_macro_average_df = fashion_mlp.classification_report(train_set)"
   ]
  },
  {
   "cell_type": "code",
   "execution_count": null,
   "id": "4fe35a22-01f3-4e0e-a819-ec0271f694b6",
   "metadata": {},
   "outputs": [],
   "source": [
    "train_classification_report_df"
   ]
  },
  {
   "cell_type": "code",
   "execution_count": null,
   "id": "1b36b75d-9571-46f0-9f80-f0f9f4adff00",
   "metadata": {},
   "outputs": [],
   "source": [
    "train_macro_average_df"
   ]
  },
  {
   "cell_type": "markdown",
   "id": "232164e2-d508-4436-b225-16d889aee6ef",
   "metadata": {},
   "source": [
    "### Evaluating the MLP on the validation set (Classification Report)"
   ]
  },
  {
   "cell_type": "code",
   "execution_count": null,
   "id": "9d9e9ab1-3779-4b2f-9a47-6735b0222779",
   "metadata": {},
   "outputs": [],
   "source": [
    "val_classification_report_df, val_macro_average_df = fashion_mlp.classification_report(validation_set)"
   ]
  },
  {
   "cell_type": "code",
   "execution_count": null,
   "id": "8f7b018b-b026-4b42-80f1-754b4bcfb552",
   "metadata": {},
   "outputs": [],
   "source": [
    "val_classification_report_df"
   ]
  },
  {
   "cell_type": "code",
   "execution_count": null,
   "id": "8edb3927-dad5-4b4d-971a-d9ee8874e2ef",
   "metadata": {},
   "outputs": [],
   "source": [
    "val_macro_average_df"
   ]
  },
  {
   "cell_type": "markdown",
   "id": "bf6b5391-107a-4e1d-b41e-e61fc8fea013",
   "metadata": {},
   "source": [
    "### Evaluating the MLP on the test set (Classification Report)"
   ]
  },
  {
   "cell_type": "code",
   "execution_count": null,
   "id": "ceca17cd-1be4-48fd-a1b7-3945837b9d11",
   "metadata": {},
   "outputs": [],
   "source": [
    "test_classification_report_df, test_macro_average_df = fashion_mlp.classification_report(test_set)"
   ]
  },
  {
   "cell_type": "code",
   "execution_count": null,
   "id": "3635c737-3044-42da-88c0-6e290190a393",
   "metadata": {},
   "outputs": [],
   "source": [
    "test_classification_report_df"
   ]
  },
  {
   "cell_type": "code",
   "execution_count": null,
   "id": "bff3b97b-7e6d-4e62-8913-10f6ea0e91b0",
   "metadata": {},
   "outputs": [],
   "source": [
    "test_macro_average_df"
   ]
  },
  {
   "cell_type": "markdown",
   "id": "149624d8-b6c1-4d85-bc0e-7032c96d9a52",
   "metadata": {},
   "source": [
    "## Convolutional Neural Network (section)"
   ]
  },
  {
   "cell_type": "markdown",
   "id": "579325a3-8d9e-471a-98a0-3dad946e3c7a",
   "metadata": {},
   "source": [
    "### Load data"
   ]
  },
  {
   "cell_type": "code",
   "execution_count": null,
   "id": "001af54d-1ce3-4de4-91c6-7552942d5403",
   "metadata": {},
   "outputs": [],
   "source": [
    "fashion_mnist_path = os.path.join(notebooks_path, '..', FASHION_MNIST_DATA_PATH)\n",
    "\n",
    "train_loader = FashionMnistLoader(fashion_mnist_path, 'train')\n",
    "train_set, validation_set = train_loader.load_data(validation_size=0.1, flatten_shape=False)\n",
    "train_X, train_y = train_set\n",
    "validation_X, validation_y = validation_set\n",
    "\n",
    "test_loader = FashionMnistLoader(fashion_mnist_path, 't10k')\n",
    "test_X, test_y = test_loader.load_data(flatten_shape=False)\n",
    "test_set = (test_X, test_y)"
   ]
  }
 ],
 "metadata": {
  "kernelspec": {
   "display_name": "Python 3 (ipykernel)",
   "language": "python",
   "name": "python3"
  },
  "language_info": {
   "codemirror_mode": {
    "name": "ipython",
    "version": 3
   },
   "file_extension": ".py",
   "mimetype": "text/x-python",
   "name": "python",
   "nbconvert_exporter": "python",
   "pygments_lexer": "ipython3",
   "version": "3.9.18"
  }
 },
 "nbformat": 4,
 "nbformat_minor": 5
}
